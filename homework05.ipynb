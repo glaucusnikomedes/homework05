{
 "cells": [
  {
   "cell_type": "markdown",
   "metadata": {},
   "source": [
    "# Bio 302 Homework 5\n",
    "\n",
    "There are two parts to this homework, some problems presented her and some problems from the textbook.\n",
    "\n",
    "**Part 1: This Notebook**\n",
    "\n",
    "Complete the python/exploration problems in this notebook. Please solve them in the indicated space, and ensure that your solutions pass all supplied tests.\n",
    "\n",
    "**Part 2: Textbook**\n",
    "\n",
    "Read Chapter 4 on BLAST.\n",
    "\n",
    "Under Problems/Computer Lab, p. 161, do\n",
    "\n",
    "- 4.3 (Mosses)\n",
    "- 4.7 (Pol protein)\n",
    "- 4.9 (E values)\n",
    "\n",
    "**Submission**\n",
    "\n",
    "Submit your solutions as a link to a Gist via a Slack DM, a/o send me your doc directly via DM. (Saves me a little time if you export to PDF first, and ensures I see what you intend me to see.)"
   ]
  },
  {
   "cell_type": "markdown",
   "metadata": {},
   "source": [
    "## Problem 1\n",
    "\n",
    "Consider the GAPC-1 cDNA and GAPC-1 genomic DNA\n",
    "sequences you used in Homework 3 (the dot\n",
    "plot homework). In this problem you're going to align\n",
    "them using the tools at\n",
    "https://www.ebi.ac.uk/Tools/psa/.\n",
    "\n",
    "(a) Run a Needleman-Wunsch pairwise alignment on the\n",
    "    two sequences. Include the output, or a screenshot\n",
    "    thereof, in your doc.\n",
    "\n",
    "(b) Run a Smith-Waterman pairwise alignment on the\n",
    "    two sequences. Include the output, or a screenshot\n",
    "    thereof, in your doc.\n",
    "\n",
    "(c) Compare/contrast the two alignments from (a) and\n",
    "    (b).\n",
    "\n",
    "(d) Do these alignments agree or disagree with the\n",
    "    results you saw in Homework 3? Explain."
   ]
  },
  {
   "cell_type": "markdown",
   "metadata": {
    "collapsed": true
   },
   "source": [
    "### Response\n",
    "\n",
    "a) https://www.ebi.ac.uk/Tools/services/rest/emboss_needle/result/emboss_needle-I20160310-023040-0790-47901140-oy/aln\n",
    "\n",
    "b) https://www.ebi.ac.uk/Tools/services/rest/emboss_water/result/emboss_water-I20160310-024119-0796-56758831-oy/aln\n",
    "\n",
    "c) The Needleman-Wunsch alignment has a lot more gaps than the Smith-Waterman, including a very large gap in the beginning and some large ones at the end of the sequence. The Smith-Waterman seemed to be better at reducing the number of gaps. On the other hand, though, the Smith-Waterman alignment had many more misalignments of residues than the Needleman-Wunsch did.\n",
    "\n",
    "![](./gapc1_v_gapc2_dotplot.png)\n",
    "d) These alignments agree with what we found in Homework 3 with the dot plot.  The dot plot shows gaps in places where the two pairwise alignment algorithms found gaps also. "
   ]
  },
  {
   "cell_type": "markdown",
   "metadata": {},
   "source": [
    "## Problem 2\n",
    "\n",
    "You have an unknown DNA sequence in \"unknown.txt\". Run\n",
    "a BLAST on it at NCBI or Ensembl.\n",
    "\n",
    "(a) What is the E-value and bit score of the best hit\n",
    "    (in this case, the first matching sequence)?\n",
    "\n",
    "(b) What is the most likely identity of this sequence?\n",
    "    (click on the blue link to the left of the top hit)\n",
    "\n",
    "(c) What is the title of the scientific publication\n",
    "    that reported this sequence?\n",
    "\n",
    "Now run a blast on just the first 135 residues of the sequence.\n",
    "\n",
    "(d) What do you observe about the E-values? What is\n",
    "    the E-value and score of the best hit (the first\n",
    "    matching sequence)?\n",
    "\n",
    "(e) Is the identity of the best hit different from\n",
    "    when you used the complete nucleotide sequence? Is\n",
    "    it the same gene as identified before?\n",
    "\n",
    "(f) From the two BLAST searches, what can you deduce\n",
    "    about how the length of a query sequence affects\n",
    "    your confidence in the sequence search?\n",
    "\n",
    "(g) Why is the organism from whom this sequence was\n",
    "    taken significant? One good sentence should\n",
    "    do. Please cite any references you use."
   ]
  },
  {
   "cell_type": "markdown",
   "metadata": {
    "collapsed": true
   },
   "source": [
    "### Response\n",
    "\n",
    "a) E-value: 0\n",
    "   Score: 1575\n",
    "   \n",
    "b) Wolbachia endosymbiont of Nasonia longicornis GroEL (groEL) gene, partial cds\n",
    "\n",
    "c) Phylogeny of Wolbachia pipientis based on gltA, groEL and ftsZ gene sequences: clustering of arthropod and nematode symbionts in the F supergroup, and evidence for further diversity in the Wolbachia tree.\n",
    "\n",
    "d) The E-value increases now that there are fewer residues to match.\n",
    "   E-value: 8e-61\n",
    "   Score: 242\n",
    "   \n",
    "e) The best hit for the search is still the same, both the organism and the gene.\n",
    "\n",
    "f) A shorter sequence will have a higher expect value because short sequences have a higher chance of occuring randomly in the database.\n",
    "\n",
    "g) Wolbachia is a common insect endosymbiotic/parasitic bacterium. Since it is so widespread in insects, it has high potential for use, especially for vector control. (Wikipedia) "
   ]
  },
  {
   "cell_type": "code",
   "execution_count": 4,
   "metadata": {
    "collapsed": false
   },
   "outputs": [
    {
     "name": "stdout",
     "output_type": "stream",
     "text": [
      "GTTGCAGCAATGGTAGACTCAACGGTAGCAATAACTGCAGGACCTAGAGGAAAAACAGTAGGGATTAATA\n",
      "AGCCCTATGGAGCACCAGAAATTACAAAAGATGGTTATAAGGTGATGAAGGGTATCAAGCCTGA\n"
     ]
    }
   ],
   "source": [
    "text = '''GTTGCAGCAATGGTAGACTCAACGGTAGCAATAACTGCAGGACCTAGAGGAAAAACAGTAGGGATTAATA\n",
    "AGCCCTATGGAGCACCAGAAATTACAAAAGATGGTTATAAGGTGATGAAGGGTATCAAGCCTGAAAAACC\n",
    "ATTAAACGCTGCGATAGCAAGCATCTTTGCACAGAGTTGTTCTCAATGTAACGATAAAGTTGGTGATGGT\n",
    "ACAACAACGTGCTCAATACTAACTAGCAACATGATAATGGAAGCTTCAAAATCAATTGCTGCTGGAAACG\n",
    "ATCGTGTTGGTATTAAAAACGGAATACAGAAGGCAAAAGATGTAATATTAAAGGAAATTGCGTCAATGTC\n",
    "TCGTACAATTTCTCTAGAGAAAATAGACGAAGTGGCACAAGTTGCAATAATCTCTGCAAATGGTGATAAG\n",
    "GATATAGGTAACAGTATCGCTGATTCCGTGAAAAAAGTTGGAAAAGAGGGTGTAATAACTGTTGAAGAGA\n",
    "GTAAAGGTTCAAAAGAGTTAGAAGTTGAGCTGACTACTGGCATGCAATTTGATCGCGGTTATCTCTCTCC\n",
    "GTATTTTATTACAAATAATGAAAAAATGATCGTGGAGCTTGATAATCCTTATCTATTAATTACAGAGAAA\n",
    "AAATTAAATATTATTCAACCTTTACTTCCTATTCTTGAAGCTATTGTTAAATCTGGTAAACCTTTGGTTA\n",
    "TTATTGCAGAGGATATCGAAGGTGAAGCATTAAGCACTTTAGTTATCAATAAATTGCGTGGTGGTTTAAA\n",
    "AGTTGCTGCAGTAAAAGCTCCAGGTTTTGGTGACAGAAGAAAGGAGATGCTCGAAGACATAGCAACTTTA\n",
    "ACTGGTGCTAAGTACGTCATAAAAGATGAACTT'''\n",
    "text = text.rstrip()[:135]\n",
    "\n",
    "print(text)"
   ]
  },
  {
   "cell_type": "markdown",
   "metadata": {},
   "source": [
    "## Textbook Problems\n",
    "\n",
    "4.3) ![](./3-9 Screenshot 2.png)\n",
    "![](./3-9 Screenshot 1.png)\n",
    "\n",
    "4.7) SIV looks to be closer than HIV-2\n",
    "![](./3-9 Screenshot 3.png)\n",
    "\n",
    "4.9) An E-value of 1 × 10−4 means that there would be 1 result in a database 10E4 times the size. The E-value depends upon the length of the query sequence, the size of the database, etc."
   ]
  },
  {
   "cell_type": "code",
   "execution_count": 9,
   "metadata": {
    "collapsed": false
   },
   "outputs": [
    {
     "name": "stdout",
     "output_type": "stream",
     "text": [
      "['NP_005321.1', 'NP_000509.1', 'NP_000510.1', 'NP_000175.1', 'NP_000550.2', 'NP_005323.1', 'NP_000508.1', 'NP_599030.1', 'NP_005322.1', 'NP_001003938.1', 'NP_005359.1', 'NP_976311.1', 'NP_976312.1', 'NP_067080.1', 'XP_005255344.1', 'XP_005257062.1', 'XP_011522574.1']\n"
     ]
    }
   ],
   "source": [
    "\n",
    "cont = '''>gi|4885393|ref|NP_005321.1| hemoglobin subunit epsilon [Homo sapiens] \n",
    ">gi|4504349|ref|NP_000509.1| hemoglobin subunit beta [Homo sapiens] \n",
    ">gi|4504351|ref|NP_000510.1| hemoglobin subunit delta [Homo sapiens]\n",
    ">gi|6715607|ref|NP_000175.1| hemoglobin subunit gamma-2 [Homo sapiens] \n",
    ">gi|28302131|ref|NP_000550.2| hemoglobin subunit gamma-1 [Homo sapiens]\n",
    ">gi|4885397|ref|NP_005323.1| hemoglobin subunit zeta [Homo sapiens]\n",
    ">gi|4504345|ref|NP_000508.1| hemoglobin subunit alpha [Homo sapiens]\n",
    ">gi|19549331|ref|NP_599030.1| cytoglobin [Homo sapiens]\n",
    ">gi|4885395|ref|NP_005322.1| hemoglobin subunit theta-1 [Homo sapiens] \n",
    ">gi|51510893|ref|NP_001003938.1| hemoglobin subunit mu [Homo sapiens]\n",
    ">gi|4885477|ref|NP_005359.1| myoglobin [Homo sapiens] \n",
    ">gi|44955885|ref|NP_976311.1| myoglobin [Homo sapiens] \n",
    ">gi|44955888|ref|NP_976312.1| myoglobin [Homo sapiens]\n",
    ">gi|10864065|ref|NP_067080.1| neuroglobin [Homo sapiens] \n",
    ">gi|530407992|ref|XP_005255344.1| PREDICTED: hemoglobin subunit zeta isoform X2 [Homo sapiens]\n",
    ">gi|530411477|ref|XP_005257062.1| PREDICTED: cytoglobin isoform X1 [Homo sapiens]\n",
    ">gi|767993421|ref|XP_011522574.1| PREDICTED: cytoglobin isoform X2 [Homo sapiens]'''\n",
    "cont = cont.split('\\n')\n",
    "for i in range(len(cont)):\n",
    "    cont[i] = cont[i].split('|')[3]\n",
    "print(cont)"
   ]
  },
  {
   "cell_type": "code",
   "execution_count": null,
   "metadata": {
    "collapsed": true
   },
   "outputs": [],
   "source": []
  }
 ],
 "metadata": {
  "kernelspec": {
   "display_name": "Python 3",
   "language": "python",
   "name": "python3"
  },
  "language_info": {
   "codemirror_mode": {
    "name": "ipython",
    "version": 3
   },
   "file_extension": ".py",
   "mimetype": "text/x-python",
   "name": "python",
   "nbconvert_exporter": "python",
   "pygments_lexer": "ipython3",
   "version": "3.5.1"
  }
 },
 "nbformat": 4,
 "nbformat_minor": 0
}
